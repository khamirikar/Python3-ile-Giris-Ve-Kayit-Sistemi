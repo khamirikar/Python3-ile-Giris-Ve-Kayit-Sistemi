{
 "cells": [
  {
   "cell_type": "code",
   "execution_count": 24,
   "id": "39507c55",
   "metadata": {},
   "outputs": [],
   "source": [
    "def Kullanici_bilgileri(): #NmK\n",
    "    ad_soyad = input(\"Adiniz ve Soyadiniz:\")    \n",
    "    #ad ve soyad\n",
    "    while ad_soyad.isdigit():\n",
    "        print(\"rakam Degiskeni girilmez\")\n",
    "        ad_soyad = input(\"Adiniz ve Soyadiniz:\")\n",
    "    else:\n",
    "        print(\"Diger isleminiz...\")\n",
    "    sifre = input(\"Sifrenizi Giriniz:\")\n",
    "    #sifre degiskeni \n",
    "    while not sifre.isdigit():\n",
    "        print(\"Sadece sayi degiskeni girilir\")\n",
    "        sifre = input(\"Sifrenizi Giriniz:\")\n",
    "    else:\n",
    "        print(\"Diger isleminiz...\")\n",
    "    e_posta = input(\"E-posta adresiniz:\")\n",
    "    #Posta bilgileri\n",
    "    while not ((\"@\" in e_posta) and (\".\" in e_posta)):\n",
    "        print(\"Yanlis eposta girdiniz!!\")\n",
    "        e_posta = input(\"E-posta adresiniz:\")\n",
    "    else:\n",
    "        print(\"islem kayit edildi... \\nHosgeldiniz\")\n",
    "#GIRIS SISTEMI BITIS\n"
   ]
  },
  {
   "cell_type": "code",
   "execution_count": 22,
   "id": "fcc62748",
   "metadata": {},
   "outputs": [
    {
     "name": "stdout",
     "output_type": "stream",
     "text": [
      "Adiniz ve Soyadiniz:7676767\n",
      "rakam Degiskeni girilmez\n",
      "Adiniz ve Soyadiniz:jhjhj jhjjh\n",
      "Diger isleminiz...\n",
      "Sifrenizi Giriniz:jijiji\n",
      "Sadece sayi degiskeni girilir\n",
      "Sifrenizi Giriniz:8787878\n",
      "Diger isleminiz...\n",
      "E-posta adresiniz:jhjhjhjh\n",
      "Yanlis eposta girdiniz!!\n",
      "E-posta adresiniz:nima@gmkhk.com\n",
      "islem kayit edildi... \n",
      "Hosgeldiniz\n"
     ]
    }
   ],
   "source": [
    "Kullanici_bilgileri()"
   ]
  },
  {
   "cell_type": "code",
   "execution_count": null,
   "id": "3e37e930",
   "metadata": {},
   "outputs": [],
   "source": []
  }
 ],
 "metadata": {
  "kernelspec": {
   "display_name": "Python 3",
   "language": "python",
   "name": "python3"
  },
  "language_info": {
   "codemirror_mode": {
    "name": "ipython",
    "version": 3
   },
   "file_extension": ".py",
   "mimetype": "text/x-python",
   "name": "python",
   "nbconvert_exporter": "python",
   "pygments_lexer": "ipython3",
   "version": "3.8.8"
  }
 },
 "nbformat": 4,
 "nbformat_minor": 5
}
